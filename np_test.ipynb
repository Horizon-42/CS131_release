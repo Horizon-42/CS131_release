{
 "cells": [
  {
   "cell_type": "code",
   "execution_count": 1,
   "metadata": {},
   "outputs": [
    {
     "name": "stdout",
     "output_type": "stream",
     "text": [
      "[0 1 2 3 4 5 6 7 8 9]\n"
     ]
    }
   ],
   "source": [
    "import numpy as np\n",
    "\n",
    "a = np.array(range(10))\n",
    "print(a)"
   ]
  },
  {
   "cell_type": "code",
   "execution_count": 2,
   "metadata": {},
   "outputs": [
    {
     "name": "stdout",
     "output_type": "stream",
     "text": [
      "(array([0, 1, 2, 3, 4], dtype=int64),)\n"
     ]
    }
   ],
   "source": [
    "print(np.where(a<5))"
   ]
  },
  {
   "cell_type": "code",
   "execution_count": 3,
   "metadata": {},
   "outputs": [
    {
     "name": "stdout",
     "output_type": "stream",
     "text": [
      "[[0 1 2 3 4]\n",
      " [5 6 7 8 9]]\n"
     ]
    }
   ],
   "source": [
    "a = np.array([range(5), range(5,10)])\n",
    "print(a)"
   ]
  },
  {
   "cell_type": "code",
   "execution_count": 4,
   "metadata": {},
   "outputs": [
    {
     "name": "stdout",
     "output_type": "stream",
     "text": [
      "(array([0, 0, 0, 1, 1], dtype=int64), array([0, 2, 4, 1, 3], dtype=int64))\n"
     ]
    }
   ],
   "source": [
    "print(np.where(a%2==0))"
   ]
  },
  {
   "cell_type": "code",
   "execution_count": 2,
   "metadata": {},
   "outputs": [
    {
     "name": "stdout",
     "output_type": "stream",
     "text": [
      "1\n"
     ]
    }
   ],
   "source": [
    "print( 3%2)"
   ]
  },
  {
   "cell_type": "code",
   "execution_count": 15,
   "metadata": {},
   "outputs": [
    {
     "name": "stdout",
     "output_type": "stream",
     "text": [
      "[[ 1.  2.  3.  4.]\n",
      " [ 4.  5.  6.  7.]\n",
      " [ 8.  9. 10. 11.]]\n",
      "[[inf inf inf inf]\n",
      " [inf  1.  2. inf]\n",
      " [inf  4.  5. inf]]\n",
      "[[inf inf inf inf]\n",
      " [inf  3.  4. inf]\n",
      " [inf  6.  7. inf]]\n"
     ]
    }
   ],
   "source": [
    "cost = np.array([[1,2,3,4],\n",
    "               [4,5,6,7],\n",
    "               [8,9,10,11]], dtype=float)\n",
    "print(cost)\n",
    "\n",
    "left_cost = np.roll(cost, shift=(1,1), axis=(0,1))\n",
    "right_cost = np.roll(cost, shift=(1,-1), axis=(0,1))\n",
    "\n",
    "left_cost[0] = np.inf\n",
    "right_cost[0] = np.inf\n",
    "\n",
    "left_cost[:, [0,-1]] = np.inf\n",
    "# left_cost[:, -1] = np.inf\n",
    "right_cost[:, [0,-1]] = np.inf\n",
    "# right_cost[:, -1] = np.inf\n",
    "\n",
    "print(left_cost)\n",
    "print(right_cost)"
   ]
  },
  {
   "cell_type": "code",
   "execution_count": 8,
   "metadata": {},
   "outputs": [
    {
     "name": "stdout",
     "output_type": "stream",
     "text": [
      "[[ 1.  2.]\n",
      " [ 3.  4.]\n",
      " [ 5.  6.]\n",
      " [ 7.  8.]\n",
      " [ 9. 10.]\n",
      " [11. 12.]]\n",
      "(15,)\n",
      "[ 2.82842712  5.65685425  8.48528137 11.3137085  14.14213562  2.82842712\n",
      "  5.65685425  8.48528137 11.3137085   2.82842712  5.65685425  8.48528137\n",
      "  2.82842712  5.65685425  2.82842712]\n",
      "(6, 6)\n",
      "[[ 0.          2.82842712  5.65685425  8.48528137 11.3137085  14.14213562]\n",
      " [ 2.82842712  0.          2.82842712  5.65685425  8.48528137 11.3137085 ]\n",
      " [ 5.65685425  2.82842712  0.          2.82842712  5.65685425  8.48528137]\n",
      " [ 8.48528137  5.65685425  2.82842712  0.          2.82842712  5.65685425]\n",
      " [11.3137085   8.48528137  5.65685425  2.82842712  0.          2.82842712]\n",
      " [14.14213562 11.3137085   8.48528137  5.65685425  2.82842712  0.        ]]\n"
     ]
    }
   ],
   "source": [
    "import numpy as np\n",
    "from scipy.spatial.distance import pdist, squareform\n",
    "a = np.array([1,2,3,4,5,6,7,8,9,10,11,12], dtype=float).reshape(6,2)\n",
    "print(a)\n",
    "pd = pdist(a, metric='euclidean')\n",
    "print(pd.shape) # size of pd is n(n-1)/2\n",
    "print(pd) \n",
    "sqfd = squareform(pd)\n",
    "print(sqfd.shape)\n",
    "print(sqfd)"
   ]
  },
  {
   "cell_type": "code",
   "execution_count": 11,
   "metadata": {},
   "outputs": [
    {
     "name": "stdout",
     "output_type": "stream",
     "text": [
      "[[[0 0 0]\n",
      "  [1 1 1]\n",
      "  [2 2 2]\n",
      "  [3 3 3]]\n",
      "\n",
      " [[0 1 2]\n",
      "  [0 1 2]\n",
      "  [0 1 2]\n",
      "  [0 1 2]]]\n"
     ]
    }
   ],
   "source": [
    "mgrid = np.mgrid[0:4, 0:3]\n",
    "print(mgrid)"
   ]
  }
 ],
 "metadata": {
  "kernelspec": {
   "display_name": "face_skin",
   "language": "python",
   "name": "python3"
  },
  "language_info": {
   "codemirror_mode": {
    "name": "ipython",
    "version": 3
   },
   "file_extension": ".py",
   "mimetype": "text/x-python",
   "name": "python",
   "nbconvert_exporter": "python",
   "pygments_lexer": "ipython3",
   "version": "3.10.0"
  },
  "orig_nbformat": 4
 },
 "nbformat": 4,
 "nbformat_minor": 2
}
